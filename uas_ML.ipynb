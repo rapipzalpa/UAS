{
 "cells": [
  {
   "cell_type": "markdown",
   "metadata": {},
   "source": [
    "MACHINE LEARNING"
   ]
  },
  {
   "cell_type": "markdown",
   "metadata": {},
   "source": [
    "UAS"
   ]
  },
  {
   "cell_type": "markdown",
   "metadata": {},
   "source": [
    "NAMA : RAFIF ZALFA FRADINA\n",
    "NIM  : 20220801422"
   ]
  },
  {
   "cell_type": "markdown",
   "metadata": {},
   "source": [
    "SOAL_ESSAY"
   ]
  },
  {
   "cell_type": "markdown",
   "metadata": {},
   "source": [
    "1.Jelaskan bagaimana memanfaatkan Machine Learning untuk Call API"
   ]
  },
  {
   "cell_type": "markdown",
   "metadata": {},
   "source": [
    "Pemanfaatan Machine Learning (ML) untuk Call API dapat dilakukan dalam berbagai skenario, seperti untuk prediksi, klasifikasi, rekomendasi, atau analisis data. Berikut adalah langkah-langkah umum yang dapat diambil untuk menerapkan Machine Learning dalam konteks Call API:\n",
    "\n",
    "### Langkah-langkah Implementasi\n",
    "\n",
    "1. **Pemilihan Model Machine Learning:**\n",
    "   - Tentukan jenis masalah yang ingin dipecahkan (regresi, klasifikasi, clustering, dll).\n",
    "   - Pilih model yang sesuai (misalnya, Linear Regression, Random Forest, Neural Networks).\n",
    "\n",
    "2. **Training Model:**\n",
    "   - Kumpulkan dan persiapkan data yang relevan.\n",
    "   - Latih model menggunakan data tersebut.\n",
    "   - Evaluasi kinerja model menggunakan metrik yang sesuai (misalnya, akurasi, precision, recall, F1 score).\n",
    "\n",
    "3. **Deployment Model:**\n",
    "   - Setelah model dilatih dan dievaluasi, model harus dideploy. Model ini bisa disimpan dalam format yang dapat diakses oleh API (misalnya, menggunakan framework seperti TensorFlow Serving, Flask, atau FastAPI).\n",
    "\n",
    "4. **Membangun API:**\n",
    "   - Gunakan framework web seperti Flask atau FastAPI untuk membuat endpoint API.\n",
    "   - Endpoint API ini akan menerima permintaan (request) dari client, memprosesnya menggunakan model ML, dan mengembalikan hasilnya (response).\n",
    "\n",
    "### Contoh Implementasi\n",
    "\n",
    "Berikut adalah contoh sederhana menggunakan Python dengan Flask untuk membuat API yang memanfaatkan model Machine Learning:\n",
    "\n",
    "1. **Membangun Model dan Menyimpannya:**\n",
    "   ```python\n",
    "   from sklearn.linear_model import LinearRegression\n",
    "   import pickle\n",
    "   import numpy as np\n",
    "\n",
    "   # Contoh data dan model\n",
    "   X = np.array([[1, 2], [2, 3], [3, 4]])\n",
    "   y = np.array([3, 5, 7])\n",
    "\n",
    "   model = LinearRegression()\n",
    "   model.fit(X, y)\n",
    "\n",
    "   # Menyimpan model\n",
    "   with open('model.pkl', 'wb') as file:\n",
    "       pickle.dump(model, file)\n",
    "   ```\n",
    "\n",
    "2. **Membangun API dengan Flask:**\n",
    "   ```python\n",
    "   from flask import Flask, request, jsonify\n",
    "   import pickle\n",
    "   import numpy as np\n",
    "\n",
    "   # Memuat model\n",
    "   with open('model.pkl', 'rb') as file:\n",
    "       model = pickle.load(file)\n",
    "\n",
    "   app = Flask(__name__)\n",
    "\n",
    "   @app.route('/predict', methods=['POST'])\n",
    "   def predict():\n",
    "       data = request.get_json(force=True)\n",
    "       prediction = model.predict(np.array(data['input']).reshape(1, -2))\n",
    "       return jsonify({'prediction': prediction[0]})\n",
    "\n",
    "   if __name__ == '__main__':\n",
    "       app.run(port=5000, debug=True)\n",
    "   ```\n",
    "\n",
    "### Cara Kerja API\n",
    "\n",
    "1. **Client Request:**\n",
    "   Client mengirimkan permintaan POST ke endpoint `/predict` dengan data input yang sesuai.\n",
    "   ```json\n",
    "   {\n",
    "       \"input\": [2, 3]\n",
    "   }\n",
    "   ```\n",
    "\n",
    "2. **Server Processing:**\n",
    "   Server menerima permintaan, memproses data input menggunakan model ML, dan menghasilkan prediksi.\n",
    "\n",
    "3. **Server Response:**\n",
    "   Server mengembalikan hasil prediksi dalam format JSON.\n",
    "   ```json\n",
    "   {\n",
    "       \"prediction\": 5.0\n",
    "   }\n",
    "   ```\n",
    "\n",
    "### Keuntungan Menggunakan API untuk Machine Learning\n",
    "\n",
    "1. **Scalability:**\n",
    "   API memungkinkan model ML diakses oleh berbagai aplikasi dan layanan dengan mudah, memfasilitasi skalabilitas.\n",
    "   \n",
    "2. **Modularity:**\n",
    "   Pemisahan antara model ML dan aplikasi memungkinkan pengembangan modular dan perawatan yang lebih mudah.\n",
    "   \n",
    "3. **Accessibility:**\n",
    "   API menyediakan antarmuka yang seragam dan dapat diakses dari berbagai platform dan bahasa pemrograman.\n",
    "\n",
    "### Alat dan Framework yang Dapat Digunakan\n",
    "\n",
    "- **Flask / FastAPI:** Untuk membangun dan mengelola endpoint API.\n",
    "- **TensorFlow Serving:** Untuk melayani model TensorFlow.\n",
    "- **Docker:** Untuk containerization dan deployment.\n",
    "- **Kubernetes:** Untuk orkestrasi dan manajemen skala besar.\n",
    "\n",
    "Dengan langkah-langkah ini, Anda dapat mengintegrasikan model Machine Learning ke dalam aplikasi melalui API, memungkinkan pemanfaatan prediksi dan analisis yang didukung ML dalam berbagai konteks aplikasi."
   ]
  },
  {
   "cell_type": "markdown",
   "metadata": {},
   "source": [
    "2.Jelaskan apa yang dimaksud dengan unsupervised learning"
   ]
  },
  {
   "cell_type": "markdown",
   "metadata": {},
   "source": [
    "Unsupervised learning adalah salah satu jenis pembelajaran dalam machine learning di mana model dilatih menggunakan data yang tidak memiliki label atau target. Tujuan utama dari unsupervised learning adalah untuk menemukan pola atau struktur tersembunyi dalam data tanpa bimbingan eksplisit. Berikut adalah penjelasan lebih lanjut mengenai unsupervised learning:\n",
    "\n",
    "### Definisi dan Tujuan\n",
    "\n",
    "**Unsupervised learning** adalah pendekatan dalam machine learning yang mencoba untuk mengekstrak informasi atau menemukan pola dari data input yang tidak memiliki label atau output yang telah ditentukan sebelumnya. Ini berarti bahwa algoritma tidak diberi tahu secara langsung apa yang harus dipelajari atau diidentifikasi, melainkan harus menemukan pola dan hubungan dalam data secara mandiri.\n",
    "\n",
    "### Contoh-Contoh Unsupervised Learning\n",
    "\n",
    "1. **Clustering (Pengelompokan):**\n",
    "   - **K-Means:** Algoritma yang membagi data ke dalam sejumlah klaster berdasarkan kedekatan atau kesamaan antara data poin.\n",
    "   - **Hierarchical Clustering:** Algoritma yang membangun hierarki klaster yang dapat divisualisasikan sebagai dendrogram.\n",
    "\n",
    "2. **Dimensionality Reduction (Pengurangan Dimensi):**\n",
    "   - **Principal Component Analysis (PCA):** Metode yang mengurangi dimensi data dengan menemukan komponen utama yang menjelaskan variabilitas terbesar dalam data.\n",
    "   - **t-Distributed Stochastic Neighbor Embedding (t-SNE):** Teknik untuk mengurangi dimensi dan visualisasi data dalam ruang dua atau tiga dimensi.\n",
    "\n",
    "3. **Association (Asosiasi):**\n",
    "   - **Apriori Algorithm:** Digunakan untuk menemukan aturan asosiasi dalam data transaksi, seperti dalam analisis keranjang belanja (market basket analysis).\n",
    "   - **FP-Growth:** Algoritma lain untuk menemukan pola frekuen dalam dataset besar.\n",
    "\n",
    "### Keuntungan Unsupervised Learning\n",
    "\n",
    "1. **Mengidentifikasi Struktur Data:**\n",
    "   - Mampu menemukan pola dan struktur dalam data yang tidak terlihat oleh metode lainnya.\n",
    "   \n",
    "2. **Mengurangi Dimensi Data:**\n",
    "   - Membantu dalam mengurangi jumlah fitur dalam data, yang dapat meningkatkan efisiensi dan kinerja model.\n",
    "\n",
    "3. **Mengelompokkan Data:**\n",
    "   - Dapat digunakan untuk mengelompokkan data ke dalam kategori atau klaster yang mirip, yang dapat berguna dalam segmentasi pasar, analisis gambar, dan lain-lain.\n",
    "\n",
    "### Tantangan Unsupervised Learning\n",
    "\n",
    "1. **Tidak Ada Label:**\n",
    "   - Karena tidak ada label atau target, sulit untuk mengevaluasi kinerja model secara langsung.\n",
    "   \n",
    "2. **Interpretasi Hasil:**\n",
    "   - Pola atau klaster yang ditemukan mungkin sulit untuk diinterpretasikan dan mungkin memerlukan pengetahuan domain yang mendalam.\n",
    "\n",
    "### Contoh Penerapan\n",
    "\n",
    "1. **Analisis Pelanggan:**\n",
    "   - Mengelompokkan pelanggan berdasarkan perilaku belanja untuk kampanye pemasaran yang ditargetkan.\n",
    "   \n",
    "2. **Pengenalan Pola dalam Data Gambar:**\n",
    "   - Mengidentifikasi objek atau pola dalam gambar tanpa label yang diberikan sebelumnya.\n",
    "   \n",
    "3. **Deteksi Anomali:**\n",
    "   - Mendeteksi pola yang tidak biasa dalam data, seperti transaksi penipuan atau kesalahan manufaktur.\n",
    "\n",
    "### Algoritma Populer dalam Unsupervised Learning\n",
    "\n",
    "1. **K-Means Clustering:**\n",
    "   - Membagi dataset menjadi \\( k \\) klaster yang berbeda berdasarkan kedekatan atau kesamaan.\n",
    "\n",
    "2. **Hierarchical Clustering:**\n",
    "   - Membuat klaster secara bertahap dan menyusun hierarki yang dapat divisualisasikan dalam bentuk dendrogram.\n",
    "\n",
    "3. PCA (Principal Component Analysis):\n",
    "   - Mengurangi dimensi data dengan mengidentifikasi komponen utama yang menjelaskan variabilitas terbesar dalam dataset.\n",
    "\n",
    "4. DBSCAN (Density-Based Spatial Clustering of Applications with Noise):\n",
    "   - Algoritma pengelompokan berbasis kepadatan yang mampu menemukan klaster dengan bentuk arbitrer dan menangani data dengan noise.\n",
    "\n",
    "Dengan memahami dan menggunakan metode unsupervised learning, kita dapat menggali informasi tersembunyi dalam data yang tidak berlabel, memungkinkan kita untuk mengidentifikasi pola, mengurangi dimensi data, dan mengelompokkan data secara efektif."
   ]
  },
  {
   "cell_type": "markdown",
   "metadata": {},
   "source": [
    "3.Sebutkan beberapa tools yang di gunakan untuk mengolah machine learning"
   ]
  },
  {
   "cell_type": "code",
   "execution_count": null,
   "metadata": {},
   "outputs": [],
   "source": []
  },
  {
   "cell_type": "markdown",
   "metadata": {},
   "source": [
    "Ada berbagai alat dan pustaka yang digunakan dalam machine learning, masing-masing dengan fitur dan kegunaan khusus. Berikut adalah beberapa tools populer yang sering digunakan dalam pengolahan machine learning, lengkap dengan penjelasan detailnya:\n",
    "\n",
    "### 1. **TensorFlow**\n",
    "\n",
    "- **Pengembang:** Google Brain\n",
    "- **Fitur Utama:**\n",
    "  - Mendukung berbagai algoritma machine learning dan deep learning.\n",
    "  - Dapat digunakan untuk pelatihan dan inferensi model dalam skala besar.\n",
    "  - TensorFlow Serving untuk model deployment.\n",
    "  - TensorFlow Lite untuk implementasi di perangkat mobile dan embedded.\n",
    "- **Kegunaan:** Pengembangan dan deployment model machine learning dan deep learning.\n",
    "\n",
    "### 2. **PyTorch**\n",
    "\n",
    "- **Pengembang:** Facebook AI Research (FAIR)\n",
    "- **Fitur Utama:**\n",
    "  - Dinamis dan fleksibel, memudahkan eksperimen dan debugging.\n",
    "  - Dukungan kuat untuk GPU, memfasilitasi pelatihan model yang cepat.\n",
    "  - TorchScript untuk konversi model menjadi format yang dapat dioptimalkan dan dieksekusi.\n",
    "- **Kegunaan:** Pengembangan model deep learning, penelitian, dan eksperimen.\n",
    "\n",
    "### 3. **Scikit-Learn**\n",
    "\n",
    "- **Pengembang:** Tim Scikit-Learn\n",
    "- **Fitur Utama:**\n",
    "  - Berbagai algoritma machine learning untuk klasifikasi, regresi, clustering, dan reduksi dimensi.\n",
    "  - Alat untuk preprocessing data dan evaluasi model.\n",
    "  - Mudah digunakan dan diintegrasikan dengan pustaka lain seperti NumPy dan pandas.\n",
    "- **Kegunaan:** Implementasi algoritma machine learning tradisional dan preprocessing data.\n",
    "\n",
    "### 4. **Keras**\n",
    "\n",
    "- **Pengembang:** Francois Chollet, dengan dukungan dari komunitas open source\n",
    "- **Fitur Utama:**\n",
    "  - Antarmuka yang mudah digunakan untuk pengembangan model neural network.\n",
    "  - Backend yang dapat dipilih, seperti TensorFlow atau Theano.\n",
    "  - Mendukung model sekuensial dan fungsional.\n",
    "- **Kegunaan:** Pengembangan cepat model neural network.\n",
    "\n",
    "### 5. **XGBoost**\n",
    "\n",
    "- **Pengembang:** Tianqi Chen\n",
    "- **Fitur Utama:**\n",
    "  - Implementasi gradient boosting yang sangat cepat dan efisien.\n",
    "  - Mendukung regresi, klasifikasi, dan ranking.\n",
    "  - Fitur untuk penanganan data yang hilang dan regularisasi untuk menghindari overfitting.\n",
    "- **Kegunaan:** Meningkatkan kinerja model melalui teknik boosting.\n",
    "\n",
    "### 6. **LightGBM**\n",
    "\n",
    "- **Pengembang:** Microsoft\n",
    "- **Fitur Utama:**\n",
    "  - Gradient boosting yang cepat dan efisien.\n",
    "  - Mendukung categorical features secara langsung.\n",
    "  - Optimasi untuk kecepatan dan efisiensi memori.\n",
    "- **Kegunaan:** Pengembangan model gradient boosting untuk tugas regresi, klasifikasi, dan ranking.\n",
    "\n",
    "### 7. **H2O.ai**\n",
    "\n",
    "- **Pengembang:** H2O.ai\n",
    "- **Fitur Utama:**\n",
    "  - Mendukung berbagai algoritma machine learning dan deep learning.\n",
    "  - Alat otomatisasi machine learning (AutoML).\n",
    "  - Integrasi dengan berbagai bahasa pemrograman seperti R, Python, dan Java.\n",
    "- **Kegunaan:** Pengembangan model machine learning dengan fokus pada otomatisasi dan efisiensi.\n",
    "\n",
    "### 8. **Apache Spark MLlib**\n",
    "\n",
    "- **Pengembang:** Apache Software Foundation\n",
    "- **Fitur Utama:**\n",
    "  - Skala besar, mendukung pemrosesan data terdistribusi.\n",
    "  - Berbagai algoritma machine learning untuk klasifikasi, regresi, clustering, dan collaborative filtering.\n",
    "  - Integrasi dengan ekosistem Spark untuk analisis data besar.\n",
    "- **Kegunaan:** Pengolahan dan analisis data dalam skala besar.\n",
    "\n",
    "### 9. **RapidMiner**\n",
    "\n",
    "- **Pengembang:** RapidMiner, Inc.\n",
    "- **Fitur Utama:**\n",
    "  - Platform end-to-end untuk data preparation, machine learning, dan deployment.\n",
    "  - Antarmuka drag-and-drop untuk mempermudah pengembangan model.\n",
    "  - Dukungan untuk berbagai algoritma machine learning dan deep learning.\n",
    "- **Kegunaan:** Pengembangan model machine learning tanpa banyak coding, cocok untuk data scientists dan business analysts.\n",
    "\n",
    "### 10. **Weka**\n",
    "\n",
    "- **Pengembang:** University of Waikato, New Zealand\n",
    "- **Fitur Utama:**\n",
    "  - Berbagai algoritma machine learning untuk tugas-tugas seperti klasifikasi, regresi, clustering, dan asosiasi.\n",
    "  - Antarmuka grafis yang memudahkan penggunaan tanpa coding.\n",
    "  - Alat untuk preprocessing data dan evaluasi model.\n",
    "- **Kegunaan:** Pengajaran dan penelitian machine learning, serta eksperimen dalam lingkungan GUI.\n",
    "\n",
    "### 11. **MLflow**\n",
    "\n",
    "- **Pengembang:** Databricks\n",
    "- **Fitur Utama:**\n",
    "  - Pelacakan eksperimen machine learning.\n",
    "  - Manajemen model.\n",
    "  - Deployment model.\n",
    "  - Alat untuk reproduksi eksperimen.\n",
    "- **Kegunaan:** Manajemen siklus hidup machine learning, dari eksperimen hingga deployment.\n",
    "\n",
    "### 12. **DataRobot**\n",
    "\n",
    "- **Pengembang:** DataRobot, Inc.\n",
    "- **Fitur Utama:**\n",
    "  - Platform otomatisasi machine learning.\n",
    "  - Alat untuk preprocessing data, pemilihan model, dan tuning hyperparameter.\n",
    "  - Kemampuan deployment model.\n",
    "- **Kegunaan:** Otomatisasi proses machine learning dari awal hingga akhir, memungkinkan pengguna bisnis untuk mengembangkan model tanpa keahlian mendalam dalam ML.\n",
    "\n",
    "Dengan berbagai alat ini, pengembangan dan penerapan machine learning menjadi lebih mudah dan efisien, memungkinkan peneliti dan praktisi untuk fokus pada peningkatan kinerja model dan penerapan solusi dalam skala besar."
   ]
  },
  {
   "cell_type": "markdown",
   "metadata": {},
   "source": [
    "SOAL STUDI KAMPUSS"
   ]
  },
  {
   "cell_type": "code",
   "execution_count": null,
   "metadata": {},
   "outputs": [],
   "source": [
    "import requests\n",
    "\n",
    "url = \"https://shared.djambred.my.id/uas-nim-ganjil.txt\"\n",
    "response = requests.get(url)\n",
    "\n",
    "# Menyimpan konten teks\n",
    "text_data = response.text\n",
    "print(text_data[:500])  # Menampilkan sebagian kecil teks\n"
   ]
  },
  {
   "cell_type": "code",
   "execution_count": null,
   "metadata": {},
   "outputs": [],
   "source": []
  },
  {
   "cell_type": "code",
   "execution_count": null,
   "metadata": {},
   "outputs": [],
   "source": []
  },
  {
   "cell_type": "markdown",
   "metadata": {},
   "source": [
    "UAS MACHINE LEARNING ESA UNGGUL"
   ]
  },
  {
   "cell_type": "markdown",
   "metadata": {},
   "source": [
    "Lakukan import Library Pandas dan Library Numpy"
   ]
  },
  {
   "cell_type": "code",
   "execution_count": 15,
   "metadata": {},
   "outputs": [
    {
     "ename": "NameError",
     "evalue": "name 'Jawaban' is not defined",
     "output_type": "error",
     "traceback": [
      "\u001b[1;31m---------------------------------------------------------------------------\u001b[0m",
      "\u001b[1;31mNameError\u001b[0m                                 Traceback (most recent call last)",
      "Cell \u001b[1;32mIn[15], line 1\u001b[0m\n\u001b[1;32m----> 1\u001b[0m \u001b[43mJawaban\u001b[49m\n\u001b[0;32m      2\u001b[0m \u001b[38;5;66;03m#Import Library Pandas\u001b[39;00m\n\u001b[0;32m      3\u001b[0m \n\u001b[0;32m      4\u001b[0m \n\u001b[0;32m      5\u001b[0m \u001b[38;5;66;03m#Import Library Numpy\u001b[39;00m\n",
      "\u001b[1;31mNameError\u001b[0m: name 'Jawaban' is not defined"
     ]
    }
   ],
   "source": [
    "Jawaban\n",
    "#Import Library Pandas\n",
    "\n",
    "\n",
    "#Import Library Numpy"
   ]
  },
  {
   "cell_type": "markdown",
   "metadata": {},
   "source": [
    "\n",
    "SOAL 4 B"
   ]
  },
  {
   "cell_type": "markdown",
   "metadata": {},
   "source": [
    "DATAFRAME\n",
    "\n",
    "DataFrame adalah struktur data 2 dimensi yang berbentuk tabular (mempunyai baris dan kolom). Hampir semua data tidak hanya memiliki 1 kolom tetapi lebih dari 1 kolom, sehingga lebih cocok menggunakan pandas DataFrame untuk mengolahnya.\n",
    "\n",
    "Penggunaan dataframe pada Python dengan menggunakan syntaks: df."
   ]
  },
  {
   "cell_type": "markdown",
   "metadata": {},
   "source": []
  },
  {
   "cell_type": "code",
   "execution_count": null,
   "metadata": {},
   "outputs": [],
   "source": []
  },
  {
   "cell_type": "markdown",
   "metadata": {},
   "source": []
  },
  {
   "cell_type": "markdown",
   "metadata": {},
   "source": [
    "SOAL 4 C"
   ]
  },
  {
   "cell_type": "markdown",
   "metadata": {},
   "source": [
    "Telaah Data Pada telaah data, dapat dilakukan untuk mengetahui:\n",
    "\n",
    "tipe data dari setiap kolom\n",
    "deskripsi statistik data"
   ]
  },
  {
   "cell_type": "markdown",
   "metadata": {},
   "source": [
    "#Jawaban\n",
    "#Tampilkan tipe data dari kolom yang ada pada dataset"
   ]
  },
  {
   "cell_type": "code",
   "execution_count": null,
   "metadata": {},
   "outputs": [],
   "source": []
  },
  {
   "cell_type": "markdown",
   "metadata": {},
   "source": [
    "SOAL 4 D\n",
    "Apakah tipe Data dari kolom berikut ini: (silakan diisi pada cell di bawah ini)"
   ]
  },
  {
   "cell_type": "markdown",
   "metadata": {},
   "source": [
    "Jawaban\n",
    "#Tipe Data dari kolom yang ada di dataset\n",
    "\n",
    "#Kolom  \"Id\" memiliki tipe data = ................ <isikan jawaban di sini>\n",
    "#Kolom \"SepalLengthCm\" memiliki tipe data = ...... <isikan jawaban di sini>\n",
    "#Kolom \"Species\" memiliki tipe data = ............ <isikan jawaban di sini>"
   ]
  },
  {
   "cell_type": "code",
   "execution_count": 17,
   "metadata": {},
   "outputs": [
    {
     "ename": "SyntaxError",
     "evalue": "invalid syntax (4262166607.py, line 1)",
     "output_type": "error",
     "traceback": [
      "\u001b[1;36m  Cell \u001b[1;32mIn[17], line 1\u001b[1;36m\u001b[0m\n\u001b[1;33m    SOAL 4 E\u001b[0m\n\u001b[1;37m         ^\u001b[0m\n\u001b[1;31mSyntaxError\u001b[0m\u001b[1;31m:\u001b[0m invalid syntax\n"
     ]
    }
   ],
   "source": [
    "SOAL 4 E"
   ]
  },
  {
   "cell_type": "code",
   "execution_count": 18,
   "metadata": {},
   "outputs": [
    {
     "ename": "SyntaxError",
     "evalue": "invalid syntax (2245418274.py, line 1)",
     "output_type": "error",
     "traceback": [
      "\u001b[1;36m  Cell \u001b[1;32mIn[18], line 1\u001b[1;36m\u001b[0m\n\u001b[1;33m    Hitunglah ukuran (jumlah baris dan kolom) dari dataset.\u001b[0m\n\u001b[1;37m              ^\u001b[0m\n\u001b[1;31mSyntaxError\u001b[0m\u001b[1;31m:\u001b[0m invalid syntax\n"
     ]
    }
   ],
   "source": [
    "Hitunglah ukuran (jumlah baris dan kolom) dari dataset."
   ]
  },
  {
   "cell_type": "code",
   "execution_count": 20,
   "metadata": {},
   "outputs": [],
   "source": [
    "#Latihan (6)\n",
    "#Hitung ukuran (jumlah baris dan kolom) dari dataset"
   ]
  },
  {
   "cell_type": "code",
   "execution_count": null,
   "metadata": {},
   "outputs": [],
   "source": []
  },
  {
   "cell_type": "markdown",
   "metadata": {},
   "source": [
    "SOAL 4 F\n",
    "Tampilkan data yang hanya berisi kolom \"Id\" dan kolom \"Species\" dalam bentuk dataframe.\n",
    "\n"
   ]
  },
  {
   "cell_type": "markdown",
   "metadata": {},
   "source": [
    "\n",
    "#Jawaban\n",
    "#Tampilkan data untuk kolom \"Id\" dan kolom \"Species\" dalam bentuk dataframe"
   ]
  },
  {
   "cell_type": "markdown",
   "metadata": {},
   "source": [
    "SOAL 4 G\n",
    "Tampilkan data dengan dataframe, dan data yang ditampilkan adalah data pada baris dengan indeks 0 (nol) sampai dengan indeks 9 (sembilan)\n",
    "\n",
    "#Jawaban\n",
    "#Tampilkan data dengan dataframe, dan data yang ditampilkan adalah baris dengan indeks 0 (nol) sampai dengan indeks 9 (sembilan)"
   ]
  },
  {
   "cell_type": "markdown",
   "metadata": {},
   "source": []
  },
  {
   "cell_type": "markdown",
   "metadata": {},
   "source": [
    "SOAL 4 H\n",
    "Tampilkan data hanya kolom \"Id\" dan kolom \"Species\" dengan dataframe, dan yang ditampilkan adalah data pada baris dengan indeks 11 (sebelas) sampai dengan indeks 15 (limabelas)\n",
    "\n",
    "#Jawaban\n",
    "#Tampilkan data hanya kolom \"Id\" dan kolom \"Species\", pada baris dengan indeks 0 (nol) sampai dengan indeks 9 (sembilan)\n",
    "\n",
    "# kolom = \"Species\"\n",
    "# indexno = df.columns.get_loc(kolom)\n",
    "\n",
    "# print (\"index of {} kolom {}\".format(kolom, indexno))\n",
    "SOAL 4 I\n",
    "Pada DataFrame dapat menampilkan beberapa baris pertama/terakhir dari dataset yang di load. Gunakan Method head() dan tail().\n",
    "\n",
    "Latihan: Tampilkan data pada 8 (delapan) baris pertama dari dataset, dengan dataframe.\n",
    "\n",
    "#Jawaban\n",
    "#Tampilkan data pada 8 (delapan) baris pertama dari dataset, dengan dataframe\n"
   ]
  },
  {
   "cell_type": "markdown",
   "metadata": {},
   "source": []
  }
 ],
 "metadata": {
  "kernelspec": {
   "display_name": "base",
   "language": "python",
   "name": "python3"
  },
  "language_info": {
   "codemirror_mode": {
    "name": "ipython",
    "version": 3
   },
   "file_extension": ".py",
   "mimetype": "text/x-python",
   "name": "python",
   "nbconvert_exporter": "python",
   "pygments_lexer": "ipython3",
   "version": "3.12.3"
  }
 },
 "nbformat": 4,
 "nbformat_minor": 2
}
